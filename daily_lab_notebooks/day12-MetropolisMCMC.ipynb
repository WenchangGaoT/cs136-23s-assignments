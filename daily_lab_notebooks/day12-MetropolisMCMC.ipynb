{
 "cells": [
  {
   "cell_type": "markdown",
   "metadata": {},
   "source": [
    "# CS 136 day12: Metropolis MCMC Demo\n",
    "\n",
    "## Outline\n",
    "\n",
    "* **Part 1: Implementing Metropolis Step-by-Step**\n",
    "\n",
    "\n",
    "## Takeaways\n",
    "\n",
    "* Metropolis is a way to sample from complex distributions\n",
    "* Only need ability to evaluate PDF/PMF (up to constant)\n",
    "* Only need ability to sample from your proposal $Q$ and a uniform over [0.0, 1.0]"
   ]
  },
  {
   "cell_type": "code",
   "execution_count": 1,
   "metadata": {},
   "outputs": [],
   "source": [
    "import numpy as np\n",
    "import pandas as pd\n",
    "import scipy.stats"
   ]
  },
  {
   "cell_type": "code",
   "execution_count": 2,
   "metadata": {},
   "outputs": [],
   "source": [
    "np.set_printoptions(precision=3, suppress=False)"
   ]
  },
  {
   "cell_type": "code",
   "execution_count": 3,
   "metadata": {},
   "outputs": [],
   "source": [
    "pd.options.display.float_format = '{:,.3g}'.format  # show 3 digits of precision"
   ]
  },
  {
   "cell_type": "code",
   "execution_count": 4,
   "metadata": {},
   "outputs": [],
   "source": [
    "import matplotlib.pyplot as plt\n",
    "import seaborn as sns\n",
    "sns.set_style(\"whitegrid\")\n",
    "sns.set_context(\"notebook\", font_scale=1.25)"
   ]
  },
  {
   "cell_type": "code",
   "execution_count": null,
   "metadata": {},
   "outputs": [],
   "source": []
  },
  {
   "cell_type": "markdown",
   "metadata": {},
   "source": [
    "# Part 1: Metropolis Demo for Discrete R.V.\n",
    "\n",
    "Consider a simple discrete random variable, $Z$, that takes integer values in $\\{1, 2, \\ldots 9, 10\\}$\n",
    "\n",
    "We know its PMF up to a constant\n",
    "\n",
    "\\begin{align}\n",
    "p( Z = 1 ) &= c \\cdot 1\n",
    "\\\\\n",
    "p( Z = 2 ) &= c \\cdot 1/2\n",
    "\\\\\n",
    "\\ldots\n",
    "\\\\\n",
    "p( Z = k ) &= c \\cdot 1/k\n",
    "\\\\ \\ldots\n",
    "\\\\ \n",
    "p( Z = 10) &= c \\cdot 1/10\n",
    "\\end{align}\n",
    "\n",
    "where $c > 0$ is the normalization constant"
   ]
  },
  {
   "cell_type": "markdown",
   "metadata": {},
   "source": [
    "## Step 1: Implement $\\tilde{p}$, the computable part of the PMF\n",
    "\n",
    "$$\n",
    "\\tilde{p}( k ) = \\frac{1}{k}\n",
    "$$"
   ]
  },
  {
   "cell_type": "code",
   "execution_count": 20,
   "metadata": {},
   "outputs": [],
   "source": [
    "def eval_tilde_pmf(k):\n",
    "    return 1.0 / float(k)"
   ]
  },
  {
   "cell_type": "markdown",
   "metadata": {},
   "source": [
    "## Step 2: Implement $A$, the Metropolis acceptance ratio\n",
    "\n",
    "Let $z_t$ be the current state, and $z'$ be the proposed state\n",
    "\n",
    "$$\n",
    "A(z_t, z') = \\frac{ \\tilde{p}(z')}{ \\tilde{p}(z_t) }\n",
    "$$"
   ]
  },
  {
   "cell_type": "code",
   "execution_count": 21,
   "metadata": {},
   "outputs": [],
   "source": [
    "def eval_accept_ratio(zold, zprop):\n",
    "    return eval_tilde_pmf(zprop) / eval_tilde_pmf(zold)"
   ]
  },
  {
   "cell_type": "markdown",
   "metadata": {},
   "source": [
    "## Step 3: Implement entire transition distribution (propose then decide)\n",
    "\n"
   ]
  },
  {
   "cell_type": "code",
   "execution_count": 22,
   "metadata": {},
   "outputs": [],
   "source": [
    "def sample_from_transition_dist(zold, verbose=False):\n",
    "    # Sample from uniform over {1, 2, ... 9, 10}\n",
    "    # randint syntax: low is inclusive, high exclusive\n",
    "    zprop = np.random.randint(low=1, high=10 + 1)\n",
    "    \n",
    "    accept_ratio = eval_accept_ratio(zold, zprop)\n",
    "    \n",
    "    # Draw from a uniform over (0.0, 1.0)\n",
    "    u = np.random.rand()\n",
    "    if u < accept_ratio:\n",
    "        znew = zprop\n",
    "        result = 'accepted'\n",
    "    else:\n",
    "        znew = zold\n",
    "        result = 'rejected'\n",
    "        \n",
    "    if verbose:\n",
    "        print(\"new state %2d : %s move from %2d to %2d\" % (\n",
    "            znew, result, zold, zprop))\n",
    "    return znew"
   ]
  },
  {
   "cell_type": "code",
   "execution_count": 23,
   "metadata": {},
   "outputs": [
    {
     "name": "stdout",
     "output_type": "stream",
     "text": [
      "new state  6 : accepted move from 10 to  6\n",
      "new state  3 : accepted move from 10 to  3\n",
      "new state  5 : accepted move from 10 to  5\n",
      "new state  6 : accepted move from 10 to  6\n",
      "new state  6 : accepted move from 10 to  6\n",
      "new state  4 : accepted move from 10 to  4\n",
      "new state  6 : accepted move from 10 to  6\n",
      "new state  3 : accepted move from 10 to  3\n",
      "new state  1 : accepted move from 10 to  1\n",
      "new state  6 : accepted move from 10 to  6\n"
     ]
    }
   ],
   "source": [
    "for _ in range(10):\n",
    "    sample_from_transition_dist(10, verbose=1)"
   ]
  },
  {
   "cell_type": "code",
   "execution_count": 24,
   "metadata": {},
   "outputs": [
    {
     "name": "stdout",
     "output_type": "stream",
     "text": [
      "new state  2 : accepted move from  5 to  2\n",
      "new state  7 : accepted move from  5 to  7\n",
      "new state  2 : accepted move from  5 to  2\n",
      "new state  6 : accepted move from  5 to  6\n",
      "new state  5 : accepted move from  5 to  5\n",
      "new state  5 : rejected move from  5 to  8\n",
      "new state  5 : rejected move from  5 to  8\n",
      "new state  1 : accepted move from  5 to  1\n",
      "new state  6 : accepted move from  5 to  6\n",
      "new state  4 : accepted move from  5 to  4\n"
     ]
    }
   ],
   "source": [
    "for _ in range(10):\n",
    "    sample_from_transition_dist(5, verbose=1)"
   ]
  },
  {
   "cell_type": "code",
   "execution_count": 25,
   "metadata": {},
   "outputs": [
    {
     "name": "stdout",
     "output_type": "stream",
     "text": [
      "new state  2 : accepted move from  1 to  2\n",
      "new state  1 : rejected move from  1 to  3\n",
      "new state  1 : rejected move from  1 to  5\n",
      "new state  1 : rejected move from  1 to  3\n",
      "new state  4 : accepted move from  1 to  4\n",
      "new state  1 : rejected move from  1 to  9\n",
      "new state  5 : accepted move from  1 to  5\n",
      "new state  1 : rejected move from  1 to  9\n",
      "new state  1 : rejected move from  1 to  4\n",
      "new state  1 : rejected move from  1 to 10\n"
     ]
    }
   ],
   "source": [
    "for _ in range(10):\n",
    "    sample_from_transition_dist(1, verbose=1)"
   ]
  },
  {
   "cell_type": "code",
   "execution_count": 26,
   "metadata": {},
   "outputs": [],
   "source": [
    "x_list = []"
   ]
  },
  {
   "cell_type": "code",
   "execution_count": 27,
   "metadata": {},
   "outputs": [],
   "source": [
    "x = 5\n",
    "for _ in range(10000):\n",
    "    x = sample_from_transition_dist(x)\n",
    "    x_list.append(x)"
   ]
  },
  {
   "cell_type": "code",
   "execution_count": 29,
   "metadata": {},
   "outputs": [],
   "source": [
    "xs = np.asarray(x_list)"
   ]
  },
  {
   "cell_type": "code",
   "execution_count": 32,
   "metadata": {},
   "outputs": [
    {
     "data": {
      "text/plain": [
       "3432"
      ]
     },
     "execution_count": 32,
     "metadata": {},
     "output_type": "execute_result"
    }
   ],
   "source": [
    "np.sum(xs == 1)"
   ]
  },
  {
   "cell_type": "code",
   "execution_count": 33,
   "metadata": {},
   "outputs": [
    {
     "data": {
      "text/plain": [
       "344"
      ]
     },
     "execution_count": 33,
     "metadata": {},
     "output_type": "execute_result"
    }
   ],
   "source": [
    "np.sum(xs == 10)"
   ]
  },
  {
   "cell_type": "code",
   "execution_count": 34,
   "metadata": {},
   "outputs": [
    {
     "data": {
      "text/plain": [
       "1829"
      ]
     },
     "execution_count": 34,
     "metadata": {},
     "output_type": "execute_result"
    }
   ],
   "source": [
    "np.sum(xs == 2)"
   ]
  },
  {
   "cell_type": "code",
   "execution_count": null,
   "metadata": {},
   "outputs": [],
   "source": []
  }
 ],
 "metadata": {
  "kernelspec": {
   "display_name": "Python 3 (ipykernel)",
   "language": "python",
   "name": "python3"
  },
  "language_info": {
   "codemirror_mode": {
    "name": "ipython",
    "version": 3
   },
   "file_extension": ".py",
   "mimetype": "text/x-python",
   "name": "python",
   "nbconvert_exporter": "python",
   "pygments_lexer": "ipython3",
   "version": "3.9.2"
  }
 },
 "nbformat": 4,
 "nbformat_minor": 2
}
